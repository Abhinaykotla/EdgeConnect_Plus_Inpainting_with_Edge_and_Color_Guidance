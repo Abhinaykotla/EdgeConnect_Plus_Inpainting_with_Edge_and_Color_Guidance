{
  "cells": [
    {
      "cell_type": "code",
      "execution_count": null,
      "metadata": {
        "id": "ESdHitOzbT1-"
      },
      "outputs": [],
      "source": [
        "# import os\n",
        "# os._exit(00)  # Force kernel restart"
      ]
    },
    {
      "cell_type": "code",
      "execution_count": null,
      "metadata": {
        "colab": {
          "base_uri": "https://localhost:8080/"
        },
        "id": "eLgYrAkFelJI",
        "outputId": "fc425dfd-2728-47f8-cc92-0a5bd9a51ce0"
      },
      "outputs": [],
      "source": [
        "import torch\n",
        "\n",
        "print(f\"GPU Name: {torch.cuda.get_device_name(0)}\")\n",
        "print(f\"Total VRAM: {torch.cuda.get_device_properties(0).total_memory / 1e9:.2f} GB\")\n",
        "print(f\"Allocated VRAM: {torch.cuda.memory_allocated() / 1e9:.2f} GB\")\n",
        "print(f\"Cached VRAM: {torch.cuda.memory_reserved() / 1e9:.2f} GB\")"
      ]
    },
    {
      "cell_type": "code",
      "execution_count": null,
      "metadata": {
        "colab": {
          "base_uri": "https://localhost:8080/"
        },
        "id": "txiBRO6Fem70",
        "outputId": "b3c8ed0a-2699-46ae-cb5c-c907629d14e0"
      },
      "outputs": [],
      "source": [
        "import multiprocessing\n",
        "print(f\"CPU Cores Available: {multiprocessing.cpu_count()}\")"
      ]
    },
    {
      "cell_type": "code",
      "execution_count": null,
      "metadata": {
        "colab": {
          "base_uri": "https://localhost:8080/"
        },
        "id": "yxhXgivQhKW_",
        "outputId": "f769dcd1-5d2d-4e5e-a210-6e7e7c3c3a17"
      },
      "outputs": [],
      "source": [
        "from google.colab import drive\n",
        "drive.mount('/content/drive')"
      ]
    },
    {
      "cell_type": "code",
      "execution_count": null,
      "metadata": {
        "colab": {
          "base_uri": "https://localhost:8080/"
        },
        "id": "8GQ62QX8noiZ",
        "outputId": "14d59534-081a-495a-f9d0-d51824ccf416"
      },
      "outputs": [],
      "source": [
        "# Extract Training Data\n",
        "\n",
        "project_dir = \"/content/EdgeConnectPlus\"\n",
        "drive_data_dir = \"/content/drive/MyDrive/EdgeConnectPlus/data_archive/CelebA\"\n",
        "\n",
        "# Clean and prepare data directory\n",
        "!rm -rf {project_dir}/data_archive\n",
        "!mkdir -p {project_dir}/data_archive/CelebA\n"
      ]
    },
    {
      "cell_type": "code",
      "execution_count": null,
      "metadata": {},
      "outputs": [],
      "source": [
        "\n",
        "# Unzip train split\n",
        "!unzip -o \"{drive_data_dir}/train_input.zip\" -d \"{project_dir}/data_archive/CelebA/\"\n",
        "!unzip -o \"{drive_data_dir}/train_gt.zip\" -d \"{project_dir}/data_archive/CelebA/\"\n",
        "!unzip -o \"{drive_data_dir}/train_guidance.zip\" -d \"{project_dir}/data_archive/CelebA/\""
      ]
    },
    {
      "cell_type": "code",
      "execution_count": null,
      "metadata": {
        "colab": {
          "base_uri": "https://localhost:8080/"
        },
        "id": "i2zxgXN96SrH",
        "outputId": "e09074d3-38b3-45b4-b637-61ca7872d14f"
      },
      "outputs": [],
      "source": [
        "# Copy Code & Train Model\n",
        "\n",
        "project_dir = \"/content/EdgeConnectPlus\"\n",
        "drive_scripts_dir = \"/content/drive/MyDrive/EdgeConnectPlus/scripts\"\n",
        "\n",
        "# Remove old script versions and copy fresh ones\n",
        "!rm -rf {project_dir}/*.py\n",
        "!cp {drive_scripts_dir}/*.py {project_dir}/\n",
        "\n",
        "# Change working directory\n",
        "%cd {project_dir}"
      ]
    },
    {
      "cell_type": "code",
      "execution_count": null,
      "metadata": {
        "colab": {
          "base_uri": "https://localhost:8080/"
        },
        "id": "nmm3UcotobVD",
        "outputId": "99f3d1dc-7487-4ad3-a4ef-509421343ba6"
      },
      "outputs": [],
      "source": [
        "# Change to 'g2' to run the G2 stage\n",
        "!python train.py --stage g1\n"
      ]
    }
  ],
  "metadata": {
    "accelerator": "GPU",
    "colab": {
      "gpuType": "A100",
      "provenance": []
    },
    "kernelspec": {
      "display_name": "Python 3",
      "name": "python3"
    },
    "language_info": {
      "codemirror_mode": {
        "name": "ipython",
        "version": 3
      },
      "file_extension": ".py",
      "mimetype": "text/x-python",
      "name": "python",
      "nbconvert_exporter": "python",
      "pygments_lexer": "ipython3",
      "version": "3.13.3"
    }
  },
  "nbformat": 4,
  "nbformat_minor": 0
}

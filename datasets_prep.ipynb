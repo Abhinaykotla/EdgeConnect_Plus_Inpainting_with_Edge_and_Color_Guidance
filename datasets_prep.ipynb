{
 "cells": [
  {
   "cell_type": "code",
   "execution_count": null,
   "metadata": {},
   "outputs": [
    {
     "name": "stdout",
     "output_type": "stream",
     "text": [
      "Dataset split completed without full extraction!\n"
     ]
    }
   ],
   "source": [
    "import os\n",
    "import random\n",
    "import zipfile\n",
    "\n",
    "zip_file_path = \"data_archive\\CelebA\\img_align_celeba.zip\"\n",
    "output_path = \"data_archive\\CelebA\"\n",
    "\n",
    "train_dir = os.path.join(output_path, \"train\")\n",
    "val_dir = os.path.join(output_path, \"val\")\n",
    "test_dir = os.path.join(output_path, \"test\")\n",
    "\n",
    "for d in [train_dir, val_dir, test_dir]:\n",
    "    os.makedirs(d, exist_ok=True)\n",
    "\n",
    "try:\n",
    "    with zipfile.ZipFile(zip_file_path, 'r', allowZip64=True) as zip_ref:\n",
    "        images = zip_ref.namelist()\n",
    "        images = [img for img in images if img.endswith(\".jpg\")]\n",
    "        random.shuffle(images)\n",
    "        total_images = len(images)\n",
    "        train_size = int(0.8 * total_images)\n",
    "        val_size = int(0.1 * total_images)\n",
    "        test_size = total_images - train_size - val_size\n",
    "        train_images = images[:train_size]\n",
    "        val_images = images[train_size:train_size + val_size]\n",
    "        test_images = images[train_size + val_size:]\n",
    "\n",
    "        def extract_and_copy(image_list, target_dir):\n",
    "            for img in image_list:\n",
    "                try:\n",
    "                    img_data = zip_ref.read(img)\n",
    "                    output_file_path = os.path.join(target_dir, os.path.basename(img))\n",
    "                    with open(output_file_path, \"wb\") as f:\n",
    "                        f.write(img_data)\n",
    "                except PermissionError as e:\n",
    "                    print(f\"Permission error while accessing {img}: {e}\")\n",
    "\n",
    "        extract_and_copy(train_images, train_dir)\n",
    "        extract_and_copy(val_images, val_dir)\n",
    "        extract_and_copy(test_images, test_dir)\n",
    "\n",
    "    print(\"Dataset split completed without full extraction!\")\n",
    "\n",
    "except FileNotFoundError:\n",
    "    print(\"Error: The specified ZIP file was not found.\")\n",
    "except PermissionError:\n",
    "    print(\"Error: Permission denied while accessing the ZIP file. Try running as administrator.\")\n",
    "except Exception as e:\n",
    "    print(f\"An unexpected error occurred: {e}\")"
   ]
  }
 ],
 "metadata": {
  "kernelspec": {
   "display_name": "Python 3",
   "language": "python",
   "name": "python3"
  },
  "language_info": {
   "codemirror_mode": {
    "name": "ipython",
    "version": 3
   },
   "file_extension": ".py",
   "mimetype": "text/x-python",
   "name": "python",
   "nbconvert_exporter": "python",
   "pygments_lexer": "ipython3",
   "version": "3.11.9"
  }
 },
 "nbformat": 4,
 "nbformat_minor": 2
}
